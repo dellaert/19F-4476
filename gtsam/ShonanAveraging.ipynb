{
  "nbformat": 4,
  "nbformat_minor": 0,
  "metadata": {
    "colab": {
      "name": "ShonanAveraging.ipynb",
      "provenance": [],
      "collapsed_sections": [],
      "authorship_tag": "ABX9TyOpUPSVyWKpuLmqggVGUt75",
      "include_colab_link": true
    },
    "kernelspec": {
      "name": "python3",
      "display_name": "Python 3"
    }
  },
  "cells": [
    {
      "cell_type": "markdown",
      "metadata": {
        "id": "view-in-github",
        "colab_type": "text"
      },
      "source": [
        "<a href=\"https://colab.research.google.com/github/dellaert/19F-4476/blob/master/gtsam/ShonanAveraging.ipynb\" target=\"_parent\"><img src=\"https://colab.research.google.com/assets/colab-badge.svg\" alt=\"Open In Colab\"/></a>"
      ]
    },
    {
      "cell_type": "markdown",
      "metadata": {
        "id": "rpGKt5RksX3u",
        "colab_type": "text"
      },
      "source": [
        "# Shonan Rotation Averaging\n",
        "\n",
        "This is example code for the following ECCV 2020 paper:\n",
        "\n",
        "***Shonan Rotation Averaging: Global Optimality by Surfing SO(p)^n***\n",
        "\n",
        "by Frank Dellaert(1), David M. Rosen(2), Jing Wu(1), Robert Mahony(3), and Luca Carlone(2)\n",
        "\n",
        "1. Georgia Institute of Technology, Atlanta, GA\n",
        "2. Massachusetts Inst. of Technology, Cambridge, MA\n",
        "3. Australian National University, Canberra, Australia\n",
        "\n",
        "The project website can be found at https://dellaert.github.io/ShonanAveraging\n"
      ]
    },
    {
      "cell_type": "markdown",
      "metadata": {
        "id": "fPxeyA-1stu1",
        "colab_type": "text"
      },
      "source": [
        "We start by installing GTSAM and downloading an example input file:"
      ]
    },
    {
      "cell_type": "code",
      "metadata": {
        "id": "B5gzzC208aFP",
        "colab_type": "code",
        "colab": {}
      },
      "source": [
        "!pip install gtsam"
      ],
      "execution_count": null,
      "outputs": []
    },
    {
      "cell_type": "code",
      "metadata": {
        "id": "Pk9zZrePrIdf",
        "colab_type": "code",
        "colab": {}
      },
      "source": [
        "!wget https://raw.githubusercontent.com/dellaert/ShonanAveraging/master/gtsam/pose3example-grid.txt"
      ],
      "execution_count": null,
      "outputs": []
    },
    {
      "cell_type": "markdown",
      "metadata": {
        "id": "5nqvsNYEsz8_",
        "colab_type": "text"
      },
      "source": [
        "Importing gtsam brings *sooo many good things*, including Shonan rotation averaging."
      ]
    },
    {
      "cell_type": "code",
      "metadata": {
        "id": "opsSgsamGPqI",
        "colab_type": "code",
        "colab": {}
      },
      "source": [
        "import gtsam"
      ],
      "execution_count": null,
      "outputs": []
    },
    {
      "cell_type": "markdown",
      "metadata": {
        "id": "DInrJq8brYGP",
        "colab_type": "text"
      },
      "source": [
        "Create a `ShonanAveraging3` instance:"
      ]
    },
    {
      "cell_type": "code",
      "metadata": {
        "id": "508ZxQ70PLhp",
        "colab_type": "code",
        "colab": {}
      },
      "source": [
        "params = gtsam.ShonanAveragingParameters3(gtsam.LevenbergMarquardtParams.CeresDefaults())\n",
        "shonan = gtsam.ShonanAveraging3(\"pose3example-grid.txt\", params)\n",
        "print(\"{} unknown rotations\".format(shonan.nrUnknowns()))"
      ],
      "execution_count": null,
      "outputs": []
    },
    {
      "cell_type": "markdown",
      "metadata": {
        "id": "XFhMD5HRrdfX",
        "colab_type": "text"
      },
      "source": [
        "Create random initial values and run with $p_{min}=3$ and $p_{max}=10$."
      ]
    },
    {
      "cell_type": "code",
      "metadata": {
        "id": "wmDd1i0QPYGF",
        "colab_type": "code",
        "colab": {}
      },
      "source": [
        "initial = shonan.initializeRandomly()     \n",
        "rotations, min_eigenvalue = shonan.run(initial, 3, 10)"
      ],
      "execution_count": null,
      "outputs": []
    },
    {
      "cell_type": "code",
      "metadata": {
        "id": "KCTfcXVxPmZg",
        "colab_type": "code",
        "colab": {}
      },
      "source": [
        "print(\"Terminated with minimumeigenvalue {}\".format(min_eigenvalue))"
      ],
      "execution_count": null,
      "outputs": []
    },
    {
      "cell_type": "markdown",
      "metadata": {
        "id": "2n1jYKD_sKRm",
        "colab_type": "text"
      },
      "source": [
        "The eigenvalue above is very close to zero, which says we converged to the global optimimum. Below you can examine the optimal rotations as GTSAM `Rot3` instances (to get consistent answers we remove the random gauge):"
      ]
    },
    {
      "cell_type": "code",
      "metadata": {
        "id": "YdphnTIbr6Ye",
        "colab_type": "code",
        "colab": {}
      },
      "source": [
        "R0 = rotations.atRot3(0)\n",
        "for j in range(rotations.size()):\n",
        "  print(R0.between(rotations.atRot3(j)))"
      ],
      "execution_count": null,
      "outputs": []
    },
    {
      "cell_type": "code",
      "metadata": {
        "id": "0EQ5eUEasVuF",
        "colab_type": "code",
        "colab": {}
      },
      "source": [
        ""
      ],
      "execution_count": null,
      "outputs": []
    }
  ]
}