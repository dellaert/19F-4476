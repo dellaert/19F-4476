{
  "nbformat": 4,
  "nbformat_minor": 0,
  "metadata": {
    "colab": {
      "name": "01-DuckieBot1.ipynb",
      "provenance": [],
      "include_colab_link": true
    },
    "kernelspec": {
      "name": "python3",
      "display_name": "Python 3"
    }
  },
  "cells": [
    {
      "cell_type": "markdown",
      "metadata": {
        "id": "view-in-github",
        "colab_type": "text"
      },
      "source": [
        "<a href=\"https://colab.research.google.com/github/dellaert/19F-4476/blob/master/content/01/DuckieBot1.ipynb\" target=\"_parent\"><img src=\"https://colab.research.google.com/assets/colab-badge.svg\" alt=\"Open In Colab\"/></a>"
      ]
    },
    {
      "cell_type": "markdown",
      "metadata": {
        "id": "dhzCZ0I5GY3q",
        "colab_type": "text"
      },
      "source": [
        "# DuckieBot I\n",
        "* Robot: DuckieBot\n",
        "* Sensor: wheel encoder\n",
        "* Think: localize\n",
        "* Act: DD\n",
        "* Topics needed: DD kinematics, sensor fusion, localization (MCL), factor graphs & KF\n",
        "* Factor graph concepts: Kalman filter\n"
      ]
    },
    {
      "cell_type": "markdown",
      "metadata": {
        "id": "4qUYcGjLGTaQ",
        "colab_type": "text"
      },
      "source": [
        "## DD kinematics"
      ]
    },
    {
      "cell_type": "markdown",
      "metadata": {
        "id": "nJHe8-v9A9wF",
        "colab_type": "text"
      },
      "source": [
        "Let's define wheel speeds $\\varphi_L$ and $\\varphi_R$."
      ]
    },
    {
      "cell_type": "markdown",
      "metadata": {
        "id": "K5BtAxD9G2Au",
        "colab_type": "text"
      },
      "source": [
        "## Sensor Fusion "
      ]
    },
    {
      "cell_type": "markdown",
      "metadata": {
        "id": "Ur-GxCmIHYBF",
        "colab_type": "text"
      },
      "source": [
        "## Factor Graphs"
      ]
    },
    {
      "cell_type": "markdown",
      "metadata": {
        "id": "cMGG4c19HDSS",
        "colab_type": "text"
      },
      "source": [
        "## Localization"
      ]
    },
    {
      "cell_type": "markdown",
      "metadata": {
        "id": "Cve8ELMsHPB5",
        "colab_type": "text"
      },
      "source": [
        "## The Kalman Filter"
      ]
    },
    {
      "cell_type": "markdown",
      "metadata": {
        "id": "tP3nTDmWHGqR",
        "colab_type": "text"
      },
      "source": [
        "## Monte Carlo Localization"
      ]
    }
  ]
}