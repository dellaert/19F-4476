{
  "nbformat": 4,
  "nbformat_minor": 0,
  "metadata": {
    "colab": {
      "name": "04-DuckieBot3.ipynb",
      "provenance": [],
      "collapsed_sections": [],
      "include_colab_link": true
    },
    "kernelspec": {
      "name": "python3",
      "display_name": "Python 3"
    }
  },
  "cells": [
    {
      "cell_type": "markdown",
      "metadata": {
        "id": "view-in-github",
        "colab_type": "text"
      },
      "source": [
        "<a href=\"https://colab.research.google.com/github/dellaert/19F-4476/blob/master/content/04/DuckieBot3.ipynb\" target=\"_parent\"><img src=\"https://colab.research.google.com/assets/colab-badge.svg\" alt=\"Open In Colab\"/></a>"
      ]
    },
    {
      "cell_type": "markdown",
      "metadata": {
        "id": "dhzCZ0I5GY3q",
        "colab_type": "text"
      },
      "source": [
        "# DuckieBot III\n",
        "* Robot: DuckieBot\n",
        "* Sensor: camera\n",
        "* Think: localize\n",
        "* Act: DD\n",
        "* Topics needed: control & visual servoing, vision, visual odometry\n",
        "* Factor graph concepts: Jacobians of visual observations, VO\n"
      ]
    },
    {
      "cell_type": "markdown",
      "metadata": {
        "id": "4qUYcGjLGTaQ",
        "colab_type": "text"
      },
      "source": [
        "## Camera Geometry"
      ]
    },
    {
      "cell_type": "markdown",
      "metadata": {
        "id": "K5BtAxD9G2Au",
        "colab_type": "text"
      },
      "source": [
        "## Visual Servoing and Visual Odometry"
      ]
    },
    {
      "cell_type": "markdown",
      "metadata": {
        "id": "yY0_0M00IXYt",
        "colab_type": "text"
      },
      "source": [
        "## Jacobians of Visual Observations"
      ]
    },
    {
      "cell_type": "markdown",
      "metadata": {
        "id": "5SjqkwjRIUA4",
        "colab_type": "text"
      },
      "source": [
        "## Con"
      ]
    }
  ]
}