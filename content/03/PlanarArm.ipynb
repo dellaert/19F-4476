{
  "nbformat": 4,
  "nbformat_minor": 0,
  "metadata": {
    "colab": {
      "name": "03-PlanarArm.ipynb",
      "provenance": [],
      "include_colab_link": true
    },
    "kernelspec": {
      "name": "python3",
      "display_name": "Python 3"
    }
  },
  "cells": [
    {
      "cell_type": "markdown",
      "metadata": {
        "id": "view-in-github",
        "colab_type": "text"
      },
      "source": [
        "<a href=\"https://colab.research.google.com/github/dellaert/19F-4476/blob/master/content/03/PlanarArm.ipynb\" target=\"_parent\"><img src=\"https://colab.research.google.com/assets/colab-badge.svg\" alt=\"Open In Colab\"/></a>"
      ]
    },
    {
      "cell_type": "markdown",
      "metadata": {
        "id": "dhzCZ0I5GY3q",
        "colab_type": "text"
      },
      "source": [
        "# Planar Arm\n",
        "* Robot: Planar arm\n",
        "* Sensor: joint encoders\n",
        "* Think: motion planning\n",
        "* Act: control joint angles \n",
        "* Topics needed: manipulator kinematics, control, motion planning, optimal control and trajectory optimization, RRT\n",
        "* Factor graph concepts: smoothing w GTSAM, between factors, goal factor, obstacle factors (after RRT)\n",
        "\n"
      ]
    },
    {
      "cell_type": "markdown",
      "metadata": {
        "id": "4qUYcGjLGTaQ",
        "colab_type": "text"
      },
      "source": [
        "## Manipulator Kinematics"
      ]
    },
    {
      "cell_type": "markdown",
      "metadata": {
        "id": "K5BtAxD9G2Au",
        "colab_type": "text"
      },
      "source": [
        "## Control "
      ]
    },
    {
      "cell_type": "markdown",
      "metadata": {
        "id": "yY0_0M00IXYt",
        "colab_type": "text"
      },
      "source": [
        "## Motion Planner"
      ]
    },
    {
      "cell_type": "markdown",
      "metadata": {
        "id": "5SjqkwjRIUA4",
        "colab_type": "text"
      },
      "source": [
        "## Optimal Control"
      ]
    },
    {
      "cell_type": "markdown",
      "metadata": {
        "id": "8Rto-y6hjuI2",
        "colab_type": "text"
      },
      "source": [
        "## Trajectory Optimization"
      ]
    },
    {
      "cell_type": "markdown",
      "metadata": {
        "id": "H6m1_DP9jwlP",
        "colab_type": "text"
      },
      "source": [
        "## RRTs"
      ]
    }
  ]
}